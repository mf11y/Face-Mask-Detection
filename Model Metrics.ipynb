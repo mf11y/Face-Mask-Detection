{
 "cells": [
  {
   "cell_type": "code",
   "execution_count": null,
   "metadata": {},
   "outputs": [],
   "source": [
    "from sklearn.metrics import classification_report, confusion_matrix\n",
    "import numpy as np\n",
    "from tensorflow.keras.models import load_model"
   ]
  },
  {
   "cell_type": "code",
   "execution_count": 56,
   "metadata": {},
   "outputs": [],
   "source": [
    "model = load_model('./Model/mask_detection_best.h5')"
   ]
  },
  {
   "cell_type": "code",
   "execution_count": 57,
   "metadata": {},
   "outputs": [
    {
     "name": "stdout",
     "output_type": "stream",
     "text": [
      "Found 742 images belonging to 2 classes.\n"
     ]
    }
   ],
   "source": [
    "validation_generator = validation_datagen.flow_from_directory('./Data/val/',\n",
    "                                                              target_size = (img_rows, img_cols),\n",
    "                                                              batch_size = batch_size,\n",
    "                                                              shuffle = False)"
   ]
  },
  {
   "cell_type": "code",
   "execution_count": 58,
   "metadata": {},
   "outputs": [
    {
     "name": "stdout",
     "output_type": "stream",
     "text": [
      "[[364   7]\n",
      " [  4 367]]\n",
      "              precision    recall  f1-score   support\n",
      "\n",
      "   with_mask       0.99      0.98      0.99       371\n",
      "without_mask       0.98      0.99      0.99       371\n",
      "\n",
      "    accuracy                           0.99       742\n",
      "   macro avg       0.99      0.99      0.99       742\n",
      "weighted avg       0.99      0.99      0.99       742\n",
      "\n"
     ]
    }
   ],
   "source": [
    "Y_pred = model.predict_generator(validation_generator, 742 // batch_size + 1)\n",
    "y_pred = np.where(Y_pred > .5, 1, 0)\n",
    "print(confusion_matrix(validation_generator.classes, y_pred))\n",
    "\n",
    "true_classes = validation_generator.classes\n",
    "class_labels = list(validation_generator.class_indices.keys())\n",
    "\n",
    "\n",
    "print(classification_report(true_classes, y_pred, target_names=class_labels))"
   ]
  }
 ],
 "metadata": {
  "kernelspec": {
   "display_name": "Python 3",
   "language": "python",
   "name": "python3"
  },
  "language_info": {
   "codemirror_mode": {
    "name": "ipython",
    "version": 3
   },
   "file_extension": ".py",
   "mimetype": "text/x-python",
   "name": "python",
   "nbconvert_exporter": "python",
   "pygments_lexer": "ipython3",
   "version": "3.8.2"
  }
 },
 "nbformat": 4,
 "nbformat_minor": 4
}
