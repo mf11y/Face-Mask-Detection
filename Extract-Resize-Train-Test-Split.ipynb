{
 "cells": [
  {
   "cell_type": "markdown",
   "metadata": {},
   "source": [
    "#### Crop all of the faces from the data set, resize, and split into Train/Test"
   ]
  },
  {
   "cell_type": "code",
   "execution_count": 1,
   "metadata": {},
   "outputs": [],
   "source": [
    "from bs4 import BeautifulSoup\n",
    "\n",
    "import glob\n",
    "import shutil\n",
    "\n",
    "import cv2"
   ]
  },
  {
   "cell_type": "code",
   "execution_count": 2,
   "metadata": {},
   "outputs": [],
   "source": [
    "xml_dir = r'.\\Data\\annotations\\\\'\n",
    "pic_dir = r'.\\Data\\images\\\\'\n",
    "extra_dir = r'.\\Data\\extra_faces\\\\'"
   ]
  },
  {
   "cell_type": "code",
   "execution_count": 3,
   "metadata": {},
   "outputs": [],
   "source": [
    "xml_file_names = [f for f in glob.glob(xml_dir + '*')]\n",
    "pic_file_names = [f for f in glob.glob(pic_dir + '*')]\n",
    "extra_pics_names = [f for f in glob.glob(extra_dir + '*')]"
   ]
  },
  {
   "cell_type": "code",
   "execution_count": 4,
   "metadata": {},
   "outputs": [],
   "source": [
    "img_count = 0\n",
    "\n",
    "for xml, pic in zip(xml_file_names, pic_file_names):\n",
    "    contents = open(xml, 'r').read()\n",
    "    soup = BeautifulSoup(contents, 'xml')         \n",
    "    labels = soup.find_all('name')\n",
    "    x_mins, y_mins, x_maxs, y_maxs = soup.find_all('xmin'), soup.find_all('ymin'), soup.find_all('xmax'), soup.find_all('ymax')\n",
    "    x_mins = [int(x.text) for x in x_mins]\n",
    "    x_maxs = [int(x.text) for x in x_maxs]\n",
    "    y_mins = [int(x.text) for x in y_mins]\n",
    "    y_maxs = [int(x.text) for x in y_maxs]\n",
    "    labels = [x.text for x in labels]\n",
    "    \n",
    "    current_pic = cv2.imread(pic)\n",
    "    \n",
    "    for x_min, y_min, x_max, y_max, label in zip(x_mins, y_mins, x_maxs, y_maxs, labels):\n",
    "        if label != 'mask_weared_incorrect' and (x_max - x_min >= 20) and (y_max - y_min >= 20):\n",
    "            cropped = current_pic[y_min:y_max,x_min:x_max]\n",
    "            cropped = cv2.resize(cropped, (50, 50), interpolation = cv2.INTER_AREA)\n",
    "            \n",
    "            dirname = ''         \n",
    "            if label == 'with_mask':\n",
    "                dirname = './Data/cropped/with_mask/'\n",
    "            else:   \n",
    "                dirname = './Data/cropped/without_mask/'\n",
    "                \n",
    "            cv2.imwrite(dirname + str(img_count) + '.png', cropped)\n",
    "            \n",
    "            img_count += 1"
   ]
  },
  {
   "cell_type": "code",
   "execution_count": 5,
   "metadata": {},
   "outputs": [
    {
     "name": "stdout",
     "output_type": "stream",
     "text": [
      "317\n",
      "1854\n"
     ]
    }
   ],
   "source": [
    "wo_mask_dir = '.\\Data\\cropped\\without_mask\\\\'\n",
    "w_mask_dir = '.\\Data\\cropped\\with_mask\\\\'\n",
    "\n",
    "wo_mask_files = [f for f in glob.glob(wo_mask_dir + '*')]\n",
    "w_mask_files = [f for f in glob.glob(w_mask_dir + '*')]\n",
    "\n",
    "print(len(wo_mask_files))\n",
    "print(len(w_mask_files))"
   ]
  },
  {
   "cell_type": "code",
   "execution_count": 6,
   "metadata": {},
   "outputs": [],
   "source": [
    "import random\n",
    "random.shuffle(extra_pics_names)"
   ]
  },
  {
   "cell_type": "code",
   "execution_count": 7,
   "metadata": {},
   "outputs": [],
   "source": [
    "extra_pics_needed = len(w_mask_files) - len(wo_mask_files)\n",
    "\n",
    "for file,cnt in zip(extra_pics_names, range(extra_pics_needed)):\n",
    "    image = cv2.imread(file)\n",
    "    image = cv2.resize(image, (50,50), interpolation = cv2.INTER_AREA)\n",
    "    cv2.imwrite('./Data/cropped/without_mask/' + str(img_count) + '.png', image)\n",
    "    img_count +=1"
   ]
  },
  {
   "cell_type": "code",
   "execution_count": 8,
   "metadata": {},
   "outputs": [
    {
     "name": "stdout",
     "output_type": "stream",
     "text": [
      "1854\n",
      "1854\n"
     ]
    }
   ],
   "source": [
    "wo_mask_dir = '.\\Data\\cropped\\without_mask\\\\'\n",
    "w_mask_dir = '.\\Data\\cropped\\with_mask\\\\'\n",
    "\n",
    "wo_mask_files = [f for f in glob.glob(wo_mask_dir + '*')]\n",
    "w_mask_files = [f for f in glob.glob(w_mask_dir + '*')]\n",
    "\n",
    "print(len(wo_mask_files))\n",
    "print(len(w_mask_files))"
   ]
  },
  {
   "cell_type": "code",
   "execution_count": 9,
   "metadata": {},
   "outputs": [],
   "source": [
    "cutoff = int(len(wo_mask_files) * .80)\n",
    "\n",
    "random.shuffle(w_mask_files)\n",
    "random.shuffle(wo_mask_files)\n",
    "\n",
    "train_w_mask_files = w_mask_files[0:cutoff]\n",
    "val_w_mask_files = w_mask_files[cutoff:]\n",
    "\n",
    "train_wo_mask_files = wo_mask_files[0:cutoff]\n",
    "val_wo_mask_files = wo_mask_files[cutoff:]\n",
    "\n",
    "for f in train_w_mask_files:\n",
    "    shutil.move(f, './Data/train/with_mask/')\n",
    "    \n",
    "for f in val_w_mask_files:\n",
    "    shutil.move(f, './Data/val/with_mask/')\n",
    "    \n",
    "for f in train_wo_mask_files:\n",
    "    shutil.move(f, './Data/train/without_mask/')\n",
    "    \n",
    "for f in val_wo_mask_files:\n",
    "    shutil.move(f, './Data/val/without_mask/')"
   ]
  }
 ],
 "metadata": {
  "kernelspec": {
   "display_name": "Python 3",
   "language": "python",
   "name": "python3"
  },
  "language_info": {
   "codemirror_mode": {
    "name": "ipython",
    "version": 3
   },
   "file_extension": ".py",
   "mimetype": "text/x-python",
   "name": "python",
   "nbconvert_exporter": "python",
   "pygments_lexer": "ipython3",
   "version": "3.8.2"
  }
 },
 "nbformat": 4,
 "nbformat_minor": 4
}
